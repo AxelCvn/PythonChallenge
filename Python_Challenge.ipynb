{
 "cells": [
  {
   "cell_type": "code",
   "execution_count": 2,
   "metadata": {},
   "outputs": [
    {
     "name": "stdout",
     "output_type": "stream",
     "text": [
      "10000011\n",
      "20390199\n"
     ]
    }
   ],
   "source": [
    "import csv\n",
    "import pandas as pd\n",
    "from IPython.display import display\n",
    "\n",
    "from GeoBases import GeoBase\n",
    "\n",
    "bookings = '/home/axel/Documents/bookings.csv'\n",
    "searches = '/home/axel/Documents/searches.csv'\n",
    "\n",
    "n = sum(1 for line in open(bookings))\n",
    "print n\n",
    "\n",
    "m = sum(1 for line in open(searches))\n",
    "print m"
   ]
  },
  {
   "cell_type": "code",
   "execution_count": 25,
   "metadata": {},
   "outputs": [
    {
     "data": {
      "text/html": [
       "<div>\n",
       "<style>\n",
       "    .dataframe thead tr:only-child th {\n",
       "        text-align: right;\n",
       "    }\n",
       "\n",
       "    .dataframe thead th {\n",
       "        text-align: left;\n",
       "    }\n",
       "\n",
       "    .dataframe tbody tr th {\n",
       "        vertical-align: top;\n",
       "    }\n",
       "</style>\n",
       "<table border=\"1\" class=\"dataframe\">\n",
       "  <thead>\n",
       "    <tr style=\"text-align: right;\">\n",
       "      <th></th>\n",
       "      <th>act_date</th>\n",
       "      <th>source</th>\n",
       "      <th>pos_ctry</th>\n",
       "      <th>pos_iata</th>\n",
       "      <th>pos_oid</th>\n",
       "      <th>rloc</th>\n",
       "      <th>cre_date</th>\n",
       "      <th>duration</th>\n",
       "      <th>distance</th>\n",
       "      <th>dep_port</th>\n",
       "      <th>...</th>\n",
       "      <th>route</th>\n",
       "      <th>carrier</th>\n",
       "      <th>bkg_class</th>\n",
       "      <th>cab_class</th>\n",
       "      <th>brd_time</th>\n",
       "      <th>off_time</th>\n",
       "      <th>pax</th>\n",
       "      <th>year</th>\n",
       "      <th>month</th>\n",
       "      <th>oid</th>\n",
       "    </tr>\n",
       "  </thead>\n",
       "  <tbody>\n",
       "    <tr>\n",
       "      <th>0</th>\n",
       "      <td>2013-03-05 00:00:00</td>\n",
       "      <td>1A</td>\n",
       "      <td>DE</td>\n",
       "      <td>a68dd7ae953c8acfb187a1af2dcbe123</td>\n",
       "      <td>1a11ae49fcbf545fd2afc1a24d88d2b7</td>\n",
       "      <td>ea65900e72d71f4626378e2ebd298267</td>\n",
       "      <td>2013-02-22 00:00:00</td>\n",
       "      <td>1708</td>\n",
       "      <td>0</td>\n",
       "      <td>ZRH</td>\n",
       "      <td>...</td>\n",
       "      <td>LHRZRH</td>\n",
       "      <td>VI</td>\n",
       "      <td>T</td>\n",
       "      <td>Y</td>\n",
       "      <td>2013-03-07 08:50:00</td>\n",
       "      <td>2013-03-07 11:33:37</td>\n",
       "      <td>-1</td>\n",
       "      <td>2013</td>\n",
       "      <td>3</td>\n",
       "      <td>NULL</td>\n",
       "    </tr>\n",
       "    <tr>\n",
       "      <th>1</th>\n",
       "      <td>2013-03-26 00:00:00</td>\n",
       "      <td>1A</td>\n",
       "      <td>US</td>\n",
       "      <td>e612b9eeeee6f17f42d9b0d3b79e75ca</td>\n",
       "      <td>7437560d8f276d6d05eeb806d9e7edee</td>\n",
       "      <td>737295a86982c941f1c2da9a46a14043</td>\n",
       "      <td>2013-03-26 00:00:00</td>\n",
       "      <td>135270</td>\n",
       "      <td>0</td>\n",
       "      <td>SAL</td>\n",
       "      <td>...</td>\n",
       "      <td>SALATLCLT</td>\n",
       "      <td>NV</td>\n",
       "      <td>L</td>\n",
       "      <td>Y</td>\n",
       "      <td>2013-04-12 13:04:00</td>\n",
       "      <td>2013-04-12 22:05:40</td>\n",
       "      <td>1</td>\n",
       "      <td>2013</td>\n",
       "      <td>3</td>\n",
       "      <td>NULL</td>\n",
       "    </tr>\n",
       "    <tr>\n",
       "      <th>2</th>\n",
       "      <td>2013-03-26 00:00:00</td>\n",
       "      <td>1A</td>\n",
       "      <td>US</td>\n",
       "      <td>e612b9eeeee6f17f42d9b0d3b79e75ca</td>\n",
       "      <td>7437560d8f276d6d05eeb806d9e7edee</td>\n",
       "      <td>737295a86982c941f1c2da9a46a14043</td>\n",
       "      <td>2013-03-26 00:00:00</td>\n",
       "      <td>135270</td>\n",
       "      <td>0</td>\n",
       "      <td>SAL</td>\n",
       "      <td>...</td>\n",
       "      <td>CLTATLSAL</td>\n",
       "      <td>NV</td>\n",
       "      <td>U</td>\n",
       "      <td>Y</td>\n",
       "      <td>2013-07-15 07:00:00</td>\n",
       "      <td>2013-07-15 11:34:51</td>\n",
       "      <td>1</td>\n",
       "      <td>2013</td>\n",
       "      <td>3</td>\n",
       "      <td>NULL</td>\n",
       "    </tr>\n",
       "    <tr>\n",
       "      <th>3</th>\n",
       "      <td>2013-03-26 00:00:00</td>\n",
       "      <td>1A</td>\n",
       "      <td>AU</td>\n",
       "      <td>0f984b3bb6bd06661c95529bbd6193bc</td>\n",
       "      <td>36472c6dbaf7afec9136ac40364e2794</td>\n",
       "      <td>5ecf00fdcbcec761c43dc7285253d0c1</td>\n",
       "      <td>2013-03-26 00:00:00</td>\n",
       "      <td>30885</td>\n",
       "      <td>0</td>\n",
       "      <td>AKL</td>\n",
       "      <td>...</td>\n",
       "      <td>AKLHKGSVO</td>\n",
       "      <td>XK</td>\n",
       "      <td>G</td>\n",
       "      <td>Y</td>\n",
       "      <td>2013-04-24 23:59:00</td>\n",
       "      <td>2013-04-25 16:06:31</td>\n",
       "      <td>1</td>\n",
       "      <td>2013</td>\n",
       "      <td>3</td>\n",
       "      <td>SYDA82546</td>\n",
       "    </tr>\n",
       "    <tr>\n",
       "      <th>4</th>\n",
       "      <td>2013-03-26 00:00:00</td>\n",
       "      <td>1A</td>\n",
       "      <td>AU</td>\n",
       "      <td>0f984b3bb6bd06661c95529bbd6193bc</td>\n",
       "      <td>36472c6dbaf7afec9136ac40364e2794</td>\n",
       "      <td>5ecf00fdcbcec761c43dc7285253d0c1</td>\n",
       "      <td>2013-03-26 00:00:00</td>\n",
       "      <td>30885</td>\n",
       "      <td>0</td>\n",
       "      <td>AKL</td>\n",
       "      <td>...</td>\n",
       "      <td>SVOHKGAKL</td>\n",
       "      <td>XK</td>\n",
       "      <td>G</td>\n",
       "      <td>Y</td>\n",
       "      <td>2013-05-14 20:15:00</td>\n",
       "      <td>2013-05-16 10:44:50</td>\n",
       "      <td>1</td>\n",
       "      <td>2013</td>\n",
       "      <td>3</td>\n",
       "      <td>SYDA82546</td>\n",
       "    </tr>\n",
       "  </tbody>\n",
       "</table>\n",
       "<p>5 rows × 38 columns</p>\n",
       "</div>"
      ],
      "text/plain": [
       "   act_date             source  pos_ctry                          pos_iata  \\\n",
       "0  2013-03-05 00:00:00  1A      DE        a68dd7ae953c8acfb187a1af2dcbe123   \n",
       "1  2013-03-26 00:00:00  1A      US        e612b9eeeee6f17f42d9b0d3b79e75ca   \n",
       "2  2013-03-26 00:00:00  1A      US        e612b9eeeee6f17f42d9b0d3b79e75ca   \n",
       "3  2013-03-26 00:00:00  1A      AU        0f984b3bb6bd06661c95529bbd6193bc   \n",
       "4  2013-03-26 00:00:00  1A      AU        0f984b3bb6bd06661c95529bbd6193bc   \n",
       "\n",
       "                          pos_oid                      rloc            \\\n",
       "0  1a11ae49fcbf545fd2afc1a24d88d2b7  ea65900e72d71f4626378e2ebd298267   \n",
       "1  7437560d8f276d6d05eeb806d9e7edee  737295a86982c941f1c2da9a46a14043   \n",
       "2  7437560d8f276d6d05eeb806d9e7edee  737295a86982c941f1c2da9a46a14043   \n",
       "3  36472c6dbaf7afec9136ac40364e2794  5ecf00fdcbcec761c43dc7285253d0c1   \n",
       "4  36472c6dbaf7afec9136ac40364e2794  5ecf00fdcbcec761c43dc7285253d0c1   \n",
       "\n",
       "   cre_date             duration  distance  dep_port    ...      \\\n",
       "0  2013-02-22 00:00:00      1708         0  ZRH         ...       \n",
       "1  2013-03-26 00:00:00    135270         0  SAL         ...       \n",
       "2  2013-03-26 00:00:00    135270         0  SAL         ...       \n",
       "3  2013-03-26 00:00:00     30885         0  AKL         ...       \n",
       "4  2013-03-26 00:00:00     30885         0  AKL         ...       \n",
       "\n",
       "   route           carrier  bkg_class  cab_class  brd_time             \\\n",
       "0  LHRZRH               VI  T          Y          2013-03-07 08:50:00   \n",
       "1  SALATLCLT            NV  L          Y          2013-04-12 13:04:00   \n",
       "2  CLTATLSAL            NV  U          Y          2013-07-15 07:00:00   \n",
       "3  AKLHKGSVO            XK  G          Y          2013-04-24 23:59:00   \n",
       "4  SVOHKGAKL            XK  G          Y          2013-05-14 20:15:00   \n",
       "\n",
       "   off_time            pax  year month  oid        \n",
       "0  2013-03-07 11:33:37  -1  2013     3  NULL       \n",
       "1  2013-04-12 22:05:40   1  2013     3  NULL       \n",
       "2  2013-07-15 11:34:51   1  2013     3  NULL       \n",
       "3  2013-04-25 16:06:31   1  2013     3  SYDA82546  \n",
       "4  2013-05-16 10:44:50   1  2013     3  SYDA82546  \n",
       "\n",
       "[5 rows x 38 columns]"
      ]
     },
     "metadata": {},
     "output_type": "display_data"
    }
   ],
   "source": [
    "bookings_pd = pd.read_csv(bookings, sep='^', nrows=10)\n",
    "display(bookings_pd.head())"
   ]
  },
  {
   "cell_type": "code",
   "execution_count": 3,
   "metadata": {},
   "outputs": [
    {
     "name": "stdout",
     "output_type": "stream",
     "text": [
      "Empty DataFrame\n",
      "Columns: [arr_port, nb_pass]\n",
      "Index: []\n",
      "['LHR     ' 'CLT     ' 'SVO     ' ..., 'VEL     ' 'SLM     ' 'SG      ']\n"
     ]
    }
   ],
   "source": [
    "pass_by_ports = pd.DataFrame(columns=['arr_port', 'nb_pass'])\n",
    "print pass_by_ports\n",
    "fields = ['arr_port', 'pax']\n",
    "data = pd.read_csv(bookings, delimiter=\"^\", usecols=fields )\n",
    "airports = pd.unique(data['arr_port'])\n",
    "print airports"
   ]
  },
  {
   "cell_type": "code",
   "execution_count": 4,
   "metadata": {},
   "outputs": [
    {
     "name": "stdout",
     "output_type": "stream",
     "text": [
      "      arr_port  nb_pass\n",
      "0     LHR       88809.0\n",
      "1     CLT       16862.0\n",
      "2     SVO       21292.0\n",
      "3     LGA       40712.0\n",
      "4     SIN       24874.0\n",
      "5     TUS        4090.0\n",
      "6     CTA        7300.0\n",
      "7     YWG        2680.0\n",
      "8     PVG       26630.0\n",
      "9     SGC         310.0\n",
      "10    ALG       10610.0\n",
      "11    DMM        7100.0\n",
      "12    LED       15960.0\n",
      "13    LIS       25050.0\n",
      "14    BLR       13490.0\n",
      "15    BWI       13590.0\n",
      "16    DEL       35680.0\n",
      "17    TPA       21530.0\n",
      "18    MNL       32400.0\n",
      "19    ULN         990.0\n",
      "20    ZRH       20190.0\n",
      "21    ALA        4580.0\n",
      "22    FCO       45120.0\n",
      "23    AYT        5170.0\n",
      "24    MVD        2430.0\n",
      "25    CVG        6390.0\n",
      "26    OTP        7900.0\n",
      "27    CDG       64490.0\n",
      "28    HAV        6910.0\n",
      "29    NRT       16570.0\n",
      "...        ...      ...\n",
      "2245  AZN          40.0\n",
      "2246  AXA          10.0\n",
      "2247  KMS          20.0\n",
      "2248  BAY          40.0\n",
      "2249  LPP          30.0\n",
      "2250  HOF          20.0\n",
      "2251  SLI          20.0\n",
      "2252  MCE           0.0\n",
      "2253  JSI         -10.0\n",
      "2254  DWD          10.0\n",
      "2255  DVL          10.0\n",
      "2256  WNP          20.0\n",
      "2257  HSL           0.0\n",
      "2258  ISE          10.0\n",
      "2259  YYQ          20.0\n",
      "2260  PDS          20.0\n",
      "2261  PLX          20.0\n",
      "2262  NGY          20.0\n",
      "2263  AGM           0.0\n",
      "2264  IAM          20.0\n",
      "2265  RIL           0.0\n",
      "2266  AAB          30.0\n",
      "2267  CMW          40.0\n",
      "2268  FUN           0.0\n",
      "2269  PHO          40.0\n",
      "2270  KGP          10.0\n",
      "2271  CNJ          30.0\n",
      "2272  VEL          20.0\n",
      "2273  SLM          20.0\n",
      "2274  SG            0.0\n",
      "\n",
      "[2275 rows x 2 columns]\n"
     ]
    }
   ],
   "source": [
    "for airport in airports :\n",
    "    psgrs = data.pax[data.arr_port == airport].sum(axis=0)\n",
    "    pass_by_ports = pass_by_ports.append({'arr_port':airport, 'nb_pass':psgrs}, ignore_index=True)\n",
    "print pass_by_ports"
   ]
  },
  {
   "cell_type": "code",
   "execution_count": 8,
   "metadata": {},
   "outputs": [
    {
     "name": "stdout",
     "output_type": "stream",
     "text": [
      "     arr_port  nb_pass\n",
      "0    LHR       88809.0\n",
      "58   MCO       70930.0\n",
      "65   LAX       70530.0\n",
      "44   LAS       69630.0\n",
      "150  JFK       66270.0\n",
      "27   CDG       64490.0\n",
      "30   BKK       59460.0\n",
      "70   MIA       58150.0\n",
      "34   SFO       58000.0\n",
      "102  DXB       55590.0\n"
     ]
    }
   ],
   "source": [
    "pass_by_ports = pass_by_ports.sort_values('nb_pass', ascending=False)\n",
    "pass_by_ports = pass_by_ports.drop_duplicates()\n",
    "\n",
    "print pass_by_ports[0:10]\n",
    "#Question 2"
   ]
  },
  {
   "cell_type": "code",
   "execution_count": 28,
   "metadata": {},
   "outputs": [
    {
     "name": "stdout",
     "output_type": "stream",
     "text": [
      "London Heathrow Airport\n",
      "Charlotte/Douglas International Airport\n",
      "Aeroport Sheremet'yevo\n",
      "La Guardia Airport\n",
      "Singapore Changi Airport\n",
      "Tucson International Airport\n",
      "Aeroporto di Catania-Fontanarossa\n",
      "Winnipeg Int. Airportman.\n",
      "Shanghai / Pudong\n",
      "Surgut\n"
     ]
    }
   ],
   "source": [
    "geo_a = GeoBase(data='airports', verbose=False)\n",
    "for i in range(0,10):\n",
    "    print geo_a.get(pass_by_ports['arr_port'][i].strip(), 'name')"
   ]
  },
  {
   "cell_type": "code",
   "execution_count": 3,
   "metadata": {},
   "outputs": [
    {
     "name": "stdout",
     "output_type": "stream",
     "text": [
      "         Date Destination\n",
      "0  2013-01-01         AUH\n",
      "1  2013-01-01         MIL\n",
      "2  2013-01-01         SFO\n",
      "3  2013-01-01         ARN\n",
      "4  2013-01-01         MAD\n"
     ]
    }
   ],
   "source": [
    "fields = ['Date', 'Destination']\n",
    "data = pd.read_csv(searches, delimiter=\"^\", usecols=fields)\n",
    "print data.head()"
   ]
  },
  {
   "cell_type": "code",
   "execution_count": 10,
   "metadata": {},
   "outputs": [
    {
     "name": "stdout",
     "output_type": "stream",
     "text": [
      "                Date Destination\n",
      "4         2013-01-01         MAD\n",
      "93        2013-01-01         AGP\n",
      "113       2013-01-01         BCN\n",
      "147       2013-01-01         AGP\n",
      "151       2013-01-01         MAD\n",
      "165       2013-01-01         BCN\n",
      "177       2013-01-01         BCN\n",
      "186       2013-01-01         BCN\n",
      "188       2013-01-01         BCN\n",
      "208       2013-01-01         BCN\n",
      "229       2013-01-01         BCN\n",
      "242       2013-01-01         AGP\n",
      "253       2013-01-01         BCN\n",
      "322       2013-01-01         BCN\n",
      "365       2013-01-01         BCN\n",
      "375       2013-01-01         MAD\n",
      "406       2013-01-01         MAD\n",
      "458       2013-01-01         AGP\n",
      "481       2013-01-01         BCN\n",
      "500       2013-01-01         BCN\n",
      "509       2013-01-01         MAD\n",
      "541       2013-01-01         BCN\n",
      "593       2013-01-01         BCN\n",
      "606       2013-01-01         MAD\n",
      "618       2013-01-01         BCN\n",
      "623       2013-01-01         BCN\n",
      "628       2013-01-01         BCN\n",
      "633       2013-01-01         BCN\n",
      "641       2013-01-01         BCN\n",
      "674       2013-01-01         AGP\n",
      "...              ...         ...\n",
      "20389101  2013-10-12         MAD\n",
      "20389110  2013-10-12         BCN\n",
      "20389160  2013-10-12         MAD\n",
      "20389172  2013-10-12         BCN\n",
      "20389185  2013-10-12         BCN\n",
      "20389206  2013-10-12         MAD\n",
      "20389343  2013-10-13         BCN\n",
      "20389409  2013-10-13         AGP\n",
      "20389437  2013-10-13         BCN\n",
      "20389478  2013-10-13         BCN\n",
      "20389489  2013-10-13         BCN\n",
      "20389517  2013-10-13         BCN\n",
      "20389521  2013-10-13         BCN\n",
      "20389552  2013-10-13         BCN\n",
      "20389555  2013-10-13         MAD\n",
      "20389558  2013-10-13         BCN\n",
      "20389586  2013-10-13         BCN\n",
      "20389617  2013-10-13         AGP\n",
      "20389748  2013-10-13         MAD\n",
      "20389790  2013-10-13         BCN\n",
      "20389812  2013-10-13         BCN\n",
      "20389834  2013-10-13         MAD\n",
      "20389865  2013-10-13         BCN\n",
      "20389878  2013-10-13         BCN\n",
      "20389955  2013-10-13         BCN\n",
      "20389978  2013-10-13         BCN\n",
      "20390045  2013-10-13         MAD\n",
      "20390073  2013-10-13         AGP\n",
      "20390160  2013-10-13         MAD\n",
      "20390196  2013-10-13         MAD\n",
      "\n",
      "[676382 rows x 2 columns]\n"
     ]
    }
   ],
   "source": [
    "new_data = data.ix[(data['Destination']=='AGP') | (data['Destination'] == 'MAD') | (data['Destination'] == 'BCN')]\n",
    "print new_data"
   ]
  },
  {
   "cell_type": "code",
   "execution_count": 11,
   "metadata": {},
   "outputs": [
    {
     "name": "stdout",
     "output_type": "stream",
     "text": [
      "         Destination  year month day\n",
      "4                MAD  2013    01  01\n",
      "93               AGP  2013    01  01\n",
      "113              BCN  2013    01  01\n",
      "147              AGP  2013    01  01\n",
      "151              MAD  2013    01  01\n",
      "165              BCN  2013    01  01\n",
      "177              BCN  2013    01  01\n",
      "186              BCN  2013    01  01\n",
      "188              BCN  2013    01  01\n",
      "208              BCN  2013    01  01\n",
      "229              BCN  2013    01  01\n",
      "242              AGP  2013    01  01\n",
      "253              BCN  2013    01  01\n",
      "322              BCN  2013    01  01\n",
      "365              BCN  2013    01  01\n",
      "375              MAD  2013    01  01\n",
      "406              MAD  2013    01  01\n",
      "458              AGP  2013    01  01\n",
      "481              BCN  2013    01  01\n",
      "500              BCN  2013    01  01\n",
      "509              MAD  2013    01  01\n",
      "541              BCN  2013    01  01\n",
      "593              BCN  2013    01  01\n",
      "606              MAD  2013    01  01\n",
      "618              BCN  2013    01  01\n",
      "623              BCN  2013    01  01\n",
      "628              BCN  2013    01  01\n",
      "633              BCN  2013    01  01\n",
      "641              BCN  2013    01  01\n",
      "674              AGP  2013    01  01\n",
      "...              ...   ...   ...  ..\n",
      "20389101         MAD  2013    10  12\n",
      "20389110         BCN  2013    10  12\n",
      "20389160         MAD  2013    10  12\n",
      "20389172         BCN  2013    10  12\n",
      "20389185         BCN  2013    10  12\n",
      "20389206         MAD  2013    10  12\n",
      "20389343         BCN  2013    10  13\n",
      "20389409         AGP  2013    10  13\n",
      "20389437         BCN  2013    10  13\n",
      "20389478         BCN  2013    10  13\n",
      "20389489         BCN  2013    10  13\n",
      "20389517         BCN  2013    10  13\n",
      "20389521         BCN  2013    10  13\n",
      "20389552         BCN  2013    10  13\n",
      "20389555         MAD  2013    10  13\n",
      "20389558         BCN  2013    10  13\n",
      "20389586         BCN  2013    10  13\n",
      "20389617         AGP  2013    10  13\n",
      "20389748         MAD  2013    10  13\n",
      "20389790         BCN  2013    10  13\n",
      "20389812         BCN  2013    10  13\n",
      "20389834         MAD  2013    10  13\n",
      "20389865         BCN  2013    10  13\n",
      "20389878         BCN  2013    10  13\n",
      "20389955         BCN  2013    10  13\n",
      "20389978         BCN  2013    10  13\n",
      "20390045         MAD  2013    10  13\n",
      "20390073         AGP  2013    10  13\n",
      "20390160         MAD  2013    10  13\n",
      "20390196         MAD  2013    10  13\n",
      "\n",
      "[676382 rows x 4 columns]\n"
     ]
    }
   ],
   "source": [
    "time_data = pd.concat([new_data.drop('Date', axis = 1), (new_data.Date.str.split(\"-|T\").str[:3].apply(pd.Series).rename(columns={0:'year', 1:'month', 2:'day'}))], axis = 1)\n",
    "print time_data"
   ]
  },
  {
   "cell_type": "code",
   "execution_count": 12,
   "metadata": {},
   "outputs": [
    {
     "name": "stdout",
     "output_type": "stream",
     "text": [
      "['MAD' 'AGP' 'BCN']\n",
      "   Destination Month Searches\n",
      "0          MAD    01    24258\n",
      "1          MAD    02    22800\n",
      "2          MAD    03    24681\n",
      "3          MAD    04    25251\n",
      "4          MAD    05    26334\n",
      "5          MAD    06    22800\n",
      "6          MAD    07    22971\n",
      "7          MAD    08    21831\n",
      "8          MAD    09    21147\n",
      "9          MAD    10    22294\n",
      "10         MAD    11    20272\n",
      "11         MAD    12    14504\n",
      "12         AGP    01     9633\n",
      "13         AGP    02     8379\n",
      "14         AGP    03    10659\n",
      "15         AGP    04     8265\n",
      "16         AGP    05    10830\n",
      "17         AGP    06     7923\n",
      "18         AGP    07     8892\n",
      "19         AGP    08     7866\n",
      "20         AGP    09     8151\n",
      "21         AGP    10     6499\n",
      "22         AGP    11     6384\n",
      "23         AGP    12     3696\n",
      "24         BCN    01    29469\n",
      "25         BCN    02    28329\n",
      "26         BCN    03    30552\n",
      "27         BCN    04    31236\n",
      "28         BCN    05    28728\n",
      "29         BCN    06    26505\n",
      "30         BCN    07    29241\n",
      "31         BCN    08    27075\n",
      "32         BCN    09    23427\n",
      "33         BCN    10    20276\n",
      "34         BCN    11    19824\n",
      "35         BCN    12    15400\n"
     ]
    }
   ],
   "source": [
    "final_data = pd.DataFrame(columns=['Destination','Month','Searches'])\n",
    "\n",
    "destinations = pd.unique(new_data['Destination'])\n",
    "print destinations\n",
    "months = ['01', '02','03', '04', '05', '06', '07', '08', '09', '10', '11', '12']\n",
    "for destination in destinations :\n",
    "    for mois in months :\n",
    "        srchs = time_data.Destination[(time_data.Destination == destination) & (time_data.month == mois)].count()\n",
    "        final_data = final_data.append({'Destination':destination,'Month':mois,'Searches':srchs},ignore_index=True)\n",
    "        \n",
    "print final_data\n"
   ]
  },
  {
   "cell_type": "code",
   "execution_count": 28,
   "metadata": {
    "scrolled": true
   },
   "outputs": [
    {
     "data": {
      "image/png": "[encoded data removed]",
      "text/plain": [
       "<matplotlib.figure.Figure at 0x7f57029d00d0>"
      ]
     },
     "metadata": {},
     "output_type": "display_data"
    },
    {
     "data": {
      "image/png": "[encoded data removed]",
      "text/plain": [
       "<matplotlib.figure.Figure at 0x7f5705496850>"
      ]
     },
     "metadata": {},
     "output_type": "display_data"
    },
    {
     "data": {
      "image/png": "[encoded data removed]",
      "text/plain": [
       "<matplotlib.figure.Figure at 0x7f5705627450>"
      ]
     },
     "metadata": {},
     "output_type": "display_data"
    },
    {
     "data": {
      "image/png": "[encoded data removed]",
      "text/plain": [
       "<matplotlib.figure.Figure at 0x7f57057bcad0>"
      ]
     },
     "metadata": {},
     "output_type": "display_data"
    }
   ],
   "source": [
    "%matplotlib inline\n",
    "figure = final_data.groupby(['Destination']).plot.line(x= 'Month' , y= 'Searches', )"
   ]
  },
  {
   "cell_type": "code",
   "execution_count": null,
   "metadata": {
    "collapsed": true
   },
   "outputs": [],
   "source": []
  }
 ],
 "metadata": {
  "kernelspec": {
   "display_name": "Python 2",
   "language": "python",
   "name": "python2"
  },
  "language_info": {
   "codemirror_mode": {
    "name": "ipython",
    "version": 2
   },
   "file_extension": ".py",
   "mimetype": "text/x-python",
   "name": "python",
   "nbconvert_exporter": "python",
   "pygments_lexer": "ipython2",
   "version": "2.7.14"
  }
 },
 "nbformat": 4,
 "nbformat_minor": 2
}
